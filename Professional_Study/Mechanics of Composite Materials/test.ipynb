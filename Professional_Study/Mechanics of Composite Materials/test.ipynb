{
 "cells": [
  {
   "cell_type": "code",
   "execution_count": 5,
   "metadata": {},
   "outputs": [
    {
     "name": "stdout",
     "output_type": "stream",
     "text": [
      "name:\tHT3/5224\n",
      "t:\t 0.000125\n",
      "angle:\t 0\n",
      "Q:\t [[1.41061488e+11 3.03282199e+09 0.00000000e+00]\n",
      " [3.03282199e+09 8.66520567e+09 0.00000000e+00]\n",
      " [0.00000000e+00 0.00000000e+00 5.00000000e+09]]\n",
      "S:\t [[ 7.14285714e-12 -2.50000000e-12  0.00000000e+00]\n",
      " [-2.50000000e-12  1.16279070e-10  0.00000000e+00]\n",
      " [ 0.00000000e+00  0.00000000e+00  2.00000000e-10]]\n",
      "Q_:\t [[1.41061488e+11 3.03282199e+09 0.00000000e+00]\n",
      " [3.03282199e+09 8.66520567e+09 0.00000000e+00]\n",
      " [0.00000000e+00 0.00000000e+00 5.00000000e+09]]\n",
      "S_:\t [[ 7.14285714e-12 -2.50000000e-12  0.00000000e+00]\n",
      " [-2.50000000e-12  1.16279070e-10  0.00000000e+00]\n",
      " [ 0.00000000e+00  0.00000000e+00  2.00000000e-10]]\n"
     ]
    }
   ],
   "source": [
    "import numpy as np \r\n",
    "import composite as cp \r\n",
    "A = cp.layer('HT3/5224')\r\n",
    "A.get_status()"
   ]
  },
  {
   "cell_type": "code",
   "execution_count": 11,
   "metadata": {},
   "outputs": [
    {
     "name": "stdout",
     "output_type": "stream",
     "text": [
      "name:\tHT3/5224\n",
      "t:\t 0.000125\n",
      "angle:\t 0.7853981633974483\n",
      "Q:\t [[1.41061488e+11 3.03282199e+09 0.00000000e+00]\n",
      " [3.03282199e+09 8.66520567e+09 0.00000000e+00]\n",
      " [0.00000000e+00 0.00000000e+00 5.00000000e+09]]\n",
      "S:\t [[ 7.14285714e-12 -2.50000000e-12  0.00000000e+00]\n",
      " [-2.50000000e-12  1.16279070e-10  0.00000000e+00]\n",
      " [ 0.00000000e+00  0.00000000e+00  2.00000000e-10]]\n",
      "Q_:\t [[4.39480843e+10 3.39480843e+10 3.30990705e+10]\n",
      " [3.39480843e+10 4.39480843e+10 3.30990705e+10]\n",
      " [3.30990705e+10 3.30990705e+10 3.59152623e+10]]\n",
      "S_:\t [[ 7.96054817e-11 -2.03945183e-11 -5.45681063e-11]\n",
      " [-2.03945183e-11  7.96054817e-11 -5.45681063e-11]\n",
      " [-5.45681063e-11 -5.45681063e-11  1.28421927e-10]]\n"
     ]
    }
   ],
   "source": [
    "A.set_angle_degree(45)\r\n",
    "A.get_status()"
   ]
  },
  {
   "cell_type": "code",
   "execution_count": 10,
   "metadata": {},
   "outputs": [
    {
     "data": {
      "text/plain": "matrix([[1.85778294e+10, 2.62192687e+10, 1.52779346e+10],\n        [2.62192687e+10, 8.47759704e+10, 4.20513372e+10],\n        [1.52779346e+10, 4.20513372e+10, 2.81864468e+10]])"
     },
     "execution_count": 10,
     "metadata": {},
     "output_type": "execute_result"
    }
   ],
   "source": [
    "def RigidityCal(Q,a):\r\n",
    "    \"\"\"\r\n",
    "    输入：Q(GPa),a(°)\r\n",
    "    输出：某一角度下的Q\r\n",
    "\r\n",
    "    \"\"\"\r\n",
    "    a = a*np.pi/180\r\n",
    "    Q11,Q22,Q12,Q66 = Q[0,0],Q[1,1],Q[0,1],Q[2,2]\r\n",
    "    m,n = np.cos(a),np.sin(a)\r\n",
    "    Q_11 = np.power(m,4)*Q11 + np.power(n,4)*Q22 + 2*m*m*n*n*Q12 + 4*m*m*n*n*Q66\r\n",
    "    Q_22 = np.power(n,4)*Q11 + np.power(m,4)*Q22 + 2*m*m*n*n*Q12 + 4*m*m*n*n*Q66\r\n",
    "    Q_12 = m*m*n*n*Q11 + m*m*n*n*Q22 + (np.power(m,4)+np.power(n,4))*Q12 - 4*m*m*n*n*Q66\r\n",
    "    Q_66 = m*m*n*n*Q11 + m*m*n*n*Q22 - 2*m*m*n*n*Q12 + (m*m-n*n)*(m*m-n*n)*Q66\r\n",
    "    Q_16 = m*m*m*n*Q11 - m*n*n*n*Q22 + (m*n*n*n-m*m*m*n)*Q12 + 2*(m*n*n*n-m*m*m*n)*Q66\r\n",
    "    Q_26 = m*n*n*n*Q11 - m*m*m*n*Q22 + (m*m*m*n-m*n*n*n)*Q12 + 2*(m*m*m*n-m*n*n*n)*Q66\r\n",
    "\r\n",
    "    Q_a = np.mat([[Q_11,Q_12,Q_16],[Q_12,Q_22,Q_26],[Q_16,Q_26,Q_66]])\r\n",
    "    return Q_a\r\n",
    "\r\n",
    "Q=A.Q\r\n",
    "Q45 = np.mat(RigidityCal(Q,60))\r\n",
    "Q45"
   ]
  },
  {
   "cell_type": "code",
   "execution_count": null,
   "metadata": {},
   "outputs": [],
   "source": []
  }
 ],
 "metadata": {
  "kernelspec": {
   "display_name": "Python 3.9.4 64-bit",
   "name": "python394jvsc74a57bd04eaf1be304415beee96765ae99c3f893cc8312c7f1196698e6029668e9aeb3e5"
  },
  "language_info": {
   "codemirror_mode": {
    "name": "ipython",
    "version": 3
   },
   "file_extension": ".py",
   "mimetype": "text/x-python",
   "name": "python",
   "nbconvert_exporter": "python",
   "pygments_lexer": "ipython3",
   "version": "3.9.4"
  },
  "metadata": {
   "interpreter": {
    "hash": "4eaf1be304415beee96765ae99c3f893cc8312c7f1196698e6029668e9aeb3e5"
   }
  },
  "orig_nbformat": 2
 },
 "nbformat": 4,
 "nbformat_minor": 2
}