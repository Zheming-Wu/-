{
 "cells": [
  {
   "cell_type": "code",
   "execution_count": 15,
   "metadata": {},
   "outputs": [],
   "source": [
    "import numpy as np \r\n",
    "import composite as cp "
   ]
  },
  {
   "cell_type": "code",
   "execution_count": 20,
   "metadata": {},
   "outputs": [],
   "source": [
    "class compound:\r\n",
    "    def __init__(self,layer_list,status='S'):\r\n",
    "        if status=='S':\r\n",
    "            layout=np.array(layer_list)\r\n",
    "            reverse=layout[::-1]\r\n",
    "            self.layout=np.append(layout,reverse)\r\n",
    "            pass\r\n",
    "        else:\r\n",
    "            self.layout=np.array(layer_list)\r\n",
    "            pass\r\n",
    "        self.__get_t()\r\n",
    "        self.__get_angle()\r\n",
    "        self.h=np.sum(self.t)\r\n",
    "        self.__ABDcal()\r\n",
    "        self.__abdcal()\r\n",
    "        pass\r\n",
    "\r\n",
    "    def __get_t(self):\r\n",
    "        t=np.array([])\r\n",
    "        for item in self.layout:\r\n",
    "            t=np.append(t,item.t)\r\n",
    "            self.t=t\r\n",
    "            pass\r\n",
    "        pass\r\n",
    "\r\n",
    "    def __get_angle(self):\r\n",
    "        angle=np.array([])\r\n",
    "        for item in self.layout:\r\n",
    "            angle=np.append(angle,item.angle)\r\n",
    "            self.angle=angle\r\n",
    "            pass\r\n",
    "        pass\r\n",
    "\r\n",
    "    def __ABDcal(self):\r\n",
    "        h_temp=0\r\n",
    "        A,B,D=0,0,0\r\n",
    "        for item in self.layout:\r\n",
    "            if h_temp<self.h:\r\n",
    "                bottom=h_temp-self.h/2\r\n",
    "                head=bottom+item.t\r\n",
    "                A=A+item.Q_*np.abs(head-bottom)\r\n",
    "                B=B+item.Q_*(head**2-bottom**2)/2\r\n",
    "                D=D+item.Q_*np.abs(head**3-bottom**3)/3\r\n",
    "                h_temp=h_temp+item.t \r\n",
    "                pass\r\n",
    "            else:\r\n",
    "                break\r\n",
    "            pass\r\n",
    "        self.A=A\r\n",
    "        self.B=B\r\n",
    "        self.D=D \r\n",
    "        pass\r\n",
    "\r\n",
    "    def __abdcal(self):\r\n",
    "        A,B,D=self.A,self.B,self.D\r\n",
    "        B_=-np.dot(np.linalg.inv(A),B)\r\n",
    "        C_=np.dot(B,np.linalg.inv(A))\r\n",
    "        D_=D-np.dot(np.dot(B,np.linalg.inv(A)),B)\r\n",
    "        self.a=np.linalg.inv(A)-np.dot(np.dot(B_,np.linalg.inv(D_)),C_)\r\n",
    "        self.b=np.dot(B_,np.linalg.inv(D_))\r\n",
    "        self.d=np.linalg.inv(D_)\r\n",
    "        pass\r\n",
    "\r\n",
    "    def strain_cal(self,Nx=0,Ny=0,Nxy=0,Mx=0,My=0,Mxy=0,outermost=False):\r\n",
    "        f=np.array([[Nx,Ny,Nxy,Mx,My,Mxy]]).T\r\n",
    "        a,b,d=self.a,self.b,self.d\r\n",
    "        ad=np.r_[np.c_[a,b],np.c_[b,d]]\r\n",
    "        eps_kappa_list=np.dot(ad,f)\r\n",
    "        self.eps_kappa_list=eps_kappa_list\r\n",
    "        self.eps0_x=eps_kappa_list[0]\r\n",
    "        self.eps0_y=eps_kappa_list[1]\r\n",
    "        self.eps0_xy=eps_kappa_list[2]\r\n",
    "        self.kappa_x=eps_kappa_list[3]\r\n",
    "        self.kappa_y=eps_kappa_list[4]\r\n",
    "        self.kappa_xy=eps_kappa_list[5]\r\n",
    "        if outermost==True:\r\n",
    "            eps_x=self.eps0_x+self.h*self.kappa_x/2\r\n",
    "            eps_y=self.eps0_y+self.h*self.kappa_y/2\r\n",
    "            eps_xy=self.eps0_xy+self.h*self.kappa_xy/2\r\n",
    "            return np.array([[eps_x,eps_y,eps_xy]]).T\r\n",
    "        else:\r\n",
    "            return eps_kappa_list\r\n",
    "        pass\r\n"
   ]
  },
  {
   "cell_type": "code",
   "execution_count": 21,
   "metadata": {},
   "outputs": [
    {
     "data": {
      "text/plain": "array([[[ 0.00363294],\n        [-0.00270049],\n        [-0.00027083]]])"
     },
     "execution_count": 21,
     "metadata": {},
     "output_type": "execute_result"
    }
   ],
   "source": [
    "A = cp.layer('HT3/5224')\r\n",
    "A.set_angle_degree(45)\r\n",
    "B = cp.layer('HT3/5224')\r\n",
    "B.set_angle_degree(-45)\r\n",
    "C = cp.layer('HT3/5224')\r\n",
    "C.set_angle_degree(0)\r\n",
    "\r\n",
    "comp = compound([A,B,C,C],status='S')\r\n",
    "comp.h\r\n",
    "comp.t\r\n",
    "comp.A\r\n",
    "comp.D\r\n",
    "comp.strain_cal(Mx=20,outermost=True)"
   ]
  },
  {
   "cell_type": "code",
   "execution_count": 20,
   "metadata": {},
   "outputs": [
    {
     "data": {
      "text/plain": "(array([[0., 0., 0.],\n        [0., 0., 0.],\n        [0., 0., 0.],\n        [0., 1., 2.],\n        [3., 4., 5.],\n        [6., 7., 8.]]),\n array([[0., 0., 0., 0., 1., 2.],\n        [0., 0., 0., 3., 4., 5.],\n        [0., 0., 0., 6., 7., 8.]]))"
     },
     "execution_count": 20,
     "metadata": {},
     "output_type": "execute_result"
    }
   ],
   "source": [
    "a=np.zeros([3,3])\r\n",
    "b=np.array(range(9)).reshape([3,3])\r\n",
    "np.r_[a,b],np.c_[a,b]"
   ]
  },
  {
   "cell_type": "code",
   "execution_count": null,
   "metadata": {},
   "outputs": [],
   "source": []
  }
 ],
 "metadata": {
  "kernelspec": {
   "display_name": "Python 3.9.4 64-bit",
   "name": "python394jvsc74a57bd04eaf1be304415beee96765ae99c3f893cc8312c7f1196698e6029668e9aeb3e5"
  },
  "language_info": {
   "codemirror_mode": {
    "name": "ipython",
    "version": 3
   },
   "file_extension": ".py",
   "mimetype": "text/x-python",
   "name": "python",
   "nbconvert_exporter": "python",
   "pygments_lexer": "ipython3",
   "version": "3.9.4"
  },
  "metadata": {
   "interpreter": {
    "hash": "4eaf1be304415beee96765ae99c3f893cc8312c7f1196698e6029668e9aeb3e5"
   }
  },
  "orig_nbformat": 2
 },
 "nbformat": 4,
 "nbformat_minor": 2
}