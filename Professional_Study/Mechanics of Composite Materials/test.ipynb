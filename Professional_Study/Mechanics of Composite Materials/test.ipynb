{
 "cells": [
  {
   "cell_type": "code",
   "execution_count": 1,
   "metadata": {},
   "outputs": [
    {
     "name": "stdout",
     "output_type": "stream",
     "text": [
      "name:\tHT3/5224\n",
      "t:\t 0.000125\n",
      "angle:\t 0\n",
      "Q:\t [[1.41061488e+11 3.03282199e+09 0.00000000e+00]\n",
      " [3.03282199e+09 8.66520567e+09 0.00000000e+00]\n",
      " [0.00000000e+00 0.00000000e+00 5.00000000e+09]]\n",
      "S:\t [[ 7.14285714e-12 -2.50000000e-12  0.00000000e+00]\n",
      " [-2.50000000e-12  1.16279070e-10  0.00000000e+00]\n",
      " [ 0.00000000e+00  0.00000000e+00  2.00000000e-10]]\n",
      "Q_:\t [[1.41061488e+11 3.03282199e+09 0.00000000e+00]\n",
      " [3.03282199e+09 8.66520567e+09 0.00000000e+00]\n",
      " [0.00000000e+00 0.00000000e+00 5.00000000e+09]]\n"
     ]
    }
   ],
   "source": [
    "import numpy as np \r\n",
    "import composite as cp \r\n",
    "\r\n",
    "a = cp.layer()\r\n",
    "a.set_by_E(140,8.6,0.35,5.0)\r\n",
    "a.S\r\n",
    "a.Q\r\n",
    "\r\n",
    "a.get_status()"
   ]
  },
  {
   "cell_type": "code",
   "execution_count": 2,
   "metadata": {},
   "outputs": [
    {
     "name": "stdout",
     "output_type": "stream",
     "text": [
      "name:\tHT3/5224\n",
      "t:\t 0.000125\n",
      "angle:\t 0.0\n",
      "Q:\t [[1.41061488e+11 3.03282199e+09 0.00000000e+00]\n",
      " [3.03282199e+09 8.66520567e+09 0.00000000e+00]\n",
      " [0.00000000e+00 0.00000000e+00 5.00000000e+09]]\n",
      "S:\t [[ 7.14285714e-12 -2.50000000e-12  0.00000000e+00]\n",
      " [-2.50000000e-12  1.16279070e-10  0.00000000e+00]\n",
      " [ 0.00000000e+00  0.00000000e+00  2.00000000e-10]]\n",
      "Q_:\t [[1.41061488e+11 3.03282199e+09 0.00000000e+00]\n",
      " [3.03282199e+09 8.66520567e+09 0.00000000e+00]\n",
      " [0.00000000e+00 0.00000000e+00 5.00000000e+09]]\n"
     ]
    }
   ],
   "source": [
    "b = cp.layer()\r\n",
    "b.set_angle_degree(0)\r\n",
    "b.get_status()"
   ]
  }
 ],
 "metadata": {
  "kernelspec": {
   "display_name": "Python 3.9.4 64-bit",
   "name": "python394jvsc74a57bd04eaf1be304415beee96765ae99c3f893cc8312c7f1196698e6029668e9aeb3e5"
  },
  "language_info": {
   "codemirror_mode": {
    "name": "ipython",
    "version": 3
   },
   "file_extension": ".py",
   "mimetype": "text/x-python",
   "name": "python",
   "nbconvert_exporter": "python",
   "pygments_lexer": "ipython3",
   "version": "3.9.4"
  },
  "metadata": {
   "interpreter": {
    "hash": "4eaf1be304415beee96765ae99c3f893cc8312c7f1196698e6029668e9aeb3e5"
   }
  },
  "orig_nbformat": 2
 },
 "nbformat": 4,
 "nbformat_minor": 2
}