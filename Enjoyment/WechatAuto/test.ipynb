{
 "cells": [
  {
   "cell_type": "code",
   "execution_count": 8,
   "metadata": {},
   "outputs": [
    {
     "data": {
      "text/plain": [
       "1"
      ]
     },
     "execution_count": 8,
     "metadata": {},
     "output_type": "execute_result"
    }
   ],
   "source": [
    "# wxauto 的代码太长，在 https://github.com/cluic/wxauto 获取\n",
    "from wxauto import WeChat\n",
    " \n",
    "# 获取当前微信客户端\n",
    "wx = WeChat()\n",
    " \n",
    "# 获取会话列表\n",
    "wx.GetSessionList()\n",
    "\n",
    "\"\"\"\n",
    "# 输出当前聊天窗口聊天消息\n",
    "msgs = wx.GetAllMessage\n",
    "for msg in msgs:\n",
    "    print('%s : %s'%(msg[0], msg[1]))\n",
    "## 获取更多聊天记录\n",
    "wx.LoadMoreMessage()\n",
    "msgs = wx.GetAllMessage\n",
    "for msg in msgs:\n",
    "    print('%s : %s'%(msg[0], msg[1]))\n",
    "\"\"\"\n",
    " \n",
    "# 向某人发送消息（以`张琛萌`为例）\n",
    "msg1 = '老婆晚安安啦！！！！！！'\n",
    "msg2 = 'muaaaaaaaaaaaaaaaa~!!!!!!'\n",
    "msg3 = '爱你！！！！！！！！！'\n",
    "who = '张琛萌'\n",
    "wx.ChatWith(who)  # 打开`张琛萌`聊天窗口\n",
    "wx.SendMsg(msg1)  # 向`张琛萌`发送消息\n",
    "wx.SendMsg(msg2)  # 向`张琛萌`发送消息\n",
    "wx.SendMsg(msg3)  # 向`张琛萌`发送消息\n",
    " \n",
    "# 向某人发送文件（以`张琛萌`为例，发送不同类型文件）\n",
    "file1 = '亲亲.gif'\n",
    "file2 = '爱你.gif'\n",
    "file3 = '亲亲.jfif'\n",
    "file4 = '永远爱你.jfif'\n",
    "file5 = '抱抱.jfif'\n",
    "file6 = '贴贴.jfif'\n",
    "who = '张琛萌'\n",
    "wx.ChatWith(who)  # 打开`张琛萌`聊天窗口\n",
    "wx.SendFiles(file1, file2, file3, file4, file5, file6)  # 向`张琛萌`发送上述三个文件\n",
    "\n",
    "msg4 = '么么哒！'\n",
    "wx.ChatWith(who)  \n",
    "wx.SendMsg(msg4)  \n",
    "\n",
    "file7 = '爱你.gif'\n",
    "wx.ChatWith(who)  \n",
    "wx.SendFiles(file7)  \n",
    "\n",
    "msg5 = 'chu~~~~~~~~~~~'\n",
    "wx.ChatWith(who)  \n",
    "wx.SendMsg(msg5)  \n",
    "\n",
    "file8 = '我爱你.jfif'\n",
    "wx.ChatWith(who)  \n",
    "wx.SendFiles(file8)  "
   ]
  },
  {
   "cell_type": "code",
   "execution_count": 5,
   "metadata": {},
   "outputs": [],
   "source": [
    "who = '张琛萌'\n",
    "msg = '老婆晚安安啦！！！！！！'\n",
    "wx.ChatWith(who)  # 打开`文件传输助手`聊天窗口\n",
    "wx.SendMsg(msg)  # 向`文件传输助手`发送消息：你好~"
   ]
  }
 ],
 "metadata": {
  "kernelspec": {
   "display_name": "Python 3",
   "language": "python",
   "name": "python3"
  },
  "language_info": {
   "codemirror_mode": {
    "name": "ipython",
    "version": 3
   },
   "file_extension": ".py",
   "mimetype": "text/x-python",
   "name": "python",
   "nbconvert_exporter": "python",
   "pygments_lexer": "ipython3",
   "version": "3.10.5"
  },
  "orig_nbformat": 4
 },
 "nbformat": 4,
 "nbformat_minor": 2
}
