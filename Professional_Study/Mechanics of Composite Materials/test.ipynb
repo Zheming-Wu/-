{
 "cells": [
  {
   "cell_type": "code",
   "execution_count": 18,
   "metadata": {},
   "outputs": [],
   "source": [
    "import numpy as np \r\n",
    "import composite as cp "
   ]
  },
  {
   "cell_type": "code",
   "execution_count": 60,
   "metadata": {},
   "outputs": [],
   "source": [
    "class compound:\r\n",
    "    def __init__(self,layer_list,status='S'):\r\n",
    "        if status=='S':\r\n",
    "            layout=np.array(layer_list)\r\n",
    "            reverse=layout[::-1]\r\n",
    "            self.layout=np.append(layout,reverse)\r\n",
    "            pass\r\n",
    "        else:\r\n",
    "            self.layout=np.array(layer_list)\r\n",
    "            pass\r\n",
    "        self.__get_t()\r\n",
    "        self.__get_angle()\r\n",
    "        self.h=np.sum(self.t)\r\n",
    "        self.__ABDcal()\r\n",
    "        pass\r\n",
    "\r\n",
    "    def __get_t(self):\r\n",
    "        t=np.array([])\r\n",
    "        for item in self.layout:\r\n",
    "            t=np.append(t,item.t)\r\n",
    "            self.t=t\r\n",
    "            pass\r\n",
    "        pass\r\n",
    "\r\n",
    "    def __get_angle(self):\r\n",
    "        angle=np.array([])\r\n",
    "        for item in self.layout:\r\n",
    "            angle=np.append(angle,item.angle)\r\n",
    "            self.angle=angle\r\n",
    "            pass\r\n",
    "        pass\r\n",
    "\r\n",
    "    def __ABDcal(self):\r\n",
    "        h_temp=0\r\n",
    "        A,B,D=0,0,0\r\n",
    "        for item in self.layout:\r\n",
    "            if h_temp<self.h:\r\n",
    "                bottom=h_temp-self.h/2\r\n",
    "                head=bottom+item.t\r\n",
    "                A=A+item.Q_*np.abs(head-bottom)\r\n",
    "                B=B+item.Q_*np.abs(head**2-bottom**2)/2\r\n",
    "                D=D+item.Q_*np.abs(head**3-bottom**3)/3\r\n",
    "                h_temp=h_temp+item.t \r\n",
    "                pass\r\n",
    "            else:\r\n",
    "                break\r\n",
    "            pass\r\n",
    "        self.A=A\r\n",
    "        self.B=B\r\n",
    "        self.D=D \r\n",
    "        pass\r\n"
   ]
  },
  {
   "cell_type": "code",
   "execution_count": 61,
   "metadata": {},
   "outputs": [
    {
     "data": {
      "text/plain": "array([[57239414.09103504, 17732247.66366911,        0.        ],\n       [17732247.66366911, 24140343.58548074,        0.        ],\n       [       0.        ,        0.        , 19207631.17458878]])"
     },
     "execution_count": 61,
     "metadata": {},
     "output_type": "execute_result"
    }
   ],
   "source": [
    "A = cp.layer('HT3/5224')\r\n",
    "A.set_angle_degree(45)\r\n",
    "B = cp.layer('HT3/5224')\r\n",
    "B.set_angle_degree(-45)\r\n",
    "C = cp.layer('HT3/5224')\r\n",
    "C.set_angle_degree(0)\r\n",
    "\r\n",
    "comp = compound([A,B,C],status='S')\r\n",
    "comp.h\r\n",
    "comp.t\r\n",
    "comp.A"
   ]
  },
  {
   "cell_type": "code",
   "execution_count": null,
   "metadata": {},
   "outputs": [],
   "source": []
  }
 ],
 "metadata": {
  "kernelspec": {
   "display_name": "Python 3.9.4 64-bit",
   "name": "python394jvsc74a57bd04eaf1be304415beee96765ae99c3f893cc8312c7f1196698e6029668e9aeb3e5"
  },
  "language_info": {
   "codemirror_mode": {
    "name": "ipython",
    "version": 3
   },
   "file_extension": ".py",
   "mimetype": "text/x-python",
   "name": "python",
   "nbconvert_exporter": "python",
   "pygments_lexer": "ipython3",
   "version": "3.9.4"
  },
  "metadata": {
   "interpreter": {
    "hash": "4eaf1be304415beee96765ae99c3f893cc8312c7f1196698e6029668e9aeb3e5"
   }
  },
  "orig_nbformat": 2
 },
 "nbformat": 4,
 "nbformat_minor": 2
}