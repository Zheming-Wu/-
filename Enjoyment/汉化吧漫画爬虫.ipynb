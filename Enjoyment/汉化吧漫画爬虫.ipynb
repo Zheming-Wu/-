{
 "metadata": {
  "language_info": {
   "codemirror_mode": {
    "name": "ipython",
    "version": 3
   },
   "file_extension": ".py",
   "mimetype": "text/x-python",
   "name": "python",
   "nbconvert_exporter": "python",
   "pygments_lexer": "ipython3",
   "version": 3
  },
  "orig_nbformat": 2
 },
 "nbformat": 4,
 "nbformat_minor": 2,
 "cells": [
  {
   "source": [
    "# ·README\n",
    "使用方法：在汉化吧\n",
    "\n",
    "http://cache.baiducontent.com/c?m=ipo-vujcpaVZKMTTObu1JUOG15R1kTBJS7iOAPTsPjkTcGI_lS5UyfP7A6jcC_BUZyqH77M0R8fw46zu2eXWmiUUSgMkGo6P8x-mXcB-9gs6VKW9LH0OezsXvc9PsAZrBNlwsagJ_e4PD370KS89w_&p=977bc64ad48109ff57ea96261352&newp=8b2a97018e8a11a05fefce2c174492695d0fc20e3ad7da01298ffe0cc4241a1a1a3aecbf2c231407d1c0786400ad4d59e9f63d723d0034f1f689df08d2ecce7e6bd06e&s=cfcd208495d565ef&user=baidu&fm=sc&query=https%3A//m%2Ehanhuaba%2Ecom&qid=f584afaa002e8ee4&p1=1\n",
    "\n",
    "检索到你想看的漫画，点进去后获取漫画的id(在url中获取)，然后将id输入到下面注释出即可自动爬取\n",
    "- 爬取漫画所在地址默认为当前文件所在文件夹\n",
    "- 漫画自动分p"
   ],
   "cell_type": "markdown",
   "metadata": {}
  },
  {
   "cell_type": "code",
   "execution_count": null,
   "metadata": {},
   "outputs": [],
   "source": [
    "import os\n",
    "import requests\n",
    "from lxml import etree\n",
    "\n",
    "headers = {'User-Agent':'Mozilla/5.0 (Windows NT 10.0; Win64; x64) AppleWebKit/537.36 (KHTML, like Gecko) Chrome/88.0.4324.182 Safari/537.36'}\n",
    "\n",
    "url_all = 'https://m.hanhuaba.com/comic/16307/'  # 输入id:比如id是2048就是 url_all = 'https://m.hanhuaba.com/comic/2048/'\n",
    "\n",
    "all_text = requests.get(url=url_all,headers=headers).text\n",
    "print(all_text)\n",
    "all_tree = etree.HTML(all_text)\n",
    "print(all_tree)\n",
    "url_list = all_tree.xpath('//div[@class=\"chapterList d-border\"]//ul[@class=\"am-avg-sm-4 am-thumbnails list hide\"]/li/a/@href')\n",
    "print(url_list)\n"
   ]
  },
  {
   "cell_type": "code",
   "execution_count": null,
   "metadata": {},
   "outputs": [],
   "source": [
    "url_len = len(url_list)\n",
    "url_reverse_number = 0\n",
    "\n",
    "for url_half in url_list:\n",
    "    url = 'https://m.hanhuaba.com'+url_half\n",
    "    print(url)\n",
    "\n",
    "    page_text = requests.get(url=url,headers=headers).text\n",
    "    print(page_text)\n",
    "    page_tree = etree.HTML(page_text)\n",
    "    pic_list = page_tree.xpath('//div[@class=\"white\"]/div[@class=\"contentimg\"]/img/@src')\n",
    "    url_number = url_len-url_reverse_number\n",
    "    dir_name = './第'+str(url_number)+'话'\n",
    "    if not os.path.exists(dir_name):\n",
    "        os.mkdir(dir_name)\n",
    "    page_number = 1\n",
    "    for pic in pic_list:\n",
    "        with open(dir_name+'/'+str(page_number)+'.jpg','wb') as fp:\n",
    "            pic_data = requests.get(url=pic,headers=headers).content\n",
    "            fp.write(pic_data)\n",
    "        page_number = page_number+1\n",
    "    \n",
    "    url_reverse_number = url_reverse_number+1"
   ]
  }
 ]
}