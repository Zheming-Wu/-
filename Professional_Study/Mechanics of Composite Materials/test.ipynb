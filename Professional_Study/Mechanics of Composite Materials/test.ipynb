{
 "cells": [
  {
   "cell_type": "code",
   "execution_count": 1,
   "metadata": {},
   "outputs": [],
   "source": [
    "import numpy as np \r\n",
    "import composite as cp "
   ]
  },
  {
   "cell_type": "code",
   "execution_count": 3,
   "metadata": {},
   "outputs": [
    {
     "data": {
      "text/plain": "array([[[ 0.00363294],\n        [-0.00270049],\n        [-0.00027083]]])"
     },
     "execution_count": 3,
     "metadata": {},
     "output_type": "execute_result"
    }
   ],
   "source": [
    "A = cp.layer('HT3/5224')\r\n",
    "A.set_angle_degree(45)\r\n",
    "B = cp.layer('HT3/5224')\r\n",
    "B.set_angle_degree(-45)\r\n",
    "C = cp.layer('HT3/5224')\r\n",
    "C.set_angle_degree(0)\r\n",
    "\r\n",
    "comp = cp.compound([A,B,C,C],status='S')\r\n",
    "comp.h\r\n",
    "comp.t\r\n",
    "comp.A\r\n",
    "comp.D\r\n",
    "comp.strain_cal(Mx=20,outermost=True)"
   ]
  },
  {
   "cell_type": "code",
   "execution_count": 4,
   "metadata": {},
   "outputs": [
    {
     "data": {
      "text/plain": "(array([[0., 0., 0.],\n        [0., 0., 0.],\n        [0., 0., 0.],\n        [0., 1., 2.],\n        [3., 4., 5.],\n        [6., 7., 8.]]),\n array([[0., 0., 0., 0., 1., 2.],\n        [0., 0., 0., 3., 4., 5.],\n        [0., 0., 0., 6., 7., 8.]]))"
     },
     "execution_count": 4,
     "metadata": {},
     "output_type": "execute_result"
    }
   ],
   "source": [
    "a=np.zeros([3,3])\r\n",
    "b=np.array(range(9)).reshape([3,3])\r\n",
    "np.r_[a,b],np.c_[a,b]"
   ]
  },
  {
   "cell_type": "code",
   "execution_count": null,
   "metadata": {},
   "outputs": [],
   "source": []
  }
 ],
 "metadata": {
  "kernelspec": {
   "display_name": "Python 3.9.4 64-bit",
   "name": "python394jvsc74a57bd04eaf1be304415beee96765ae99c3f893cc8312c7f1196698e6029668e9aeb3e5"
  },
  "language_info": {
   "codemirror_mode": {
    "name": "ipython",
    "version": 3
   },
   "file_extension": ".py",
   "mimetype": "text/x-python",
   "name": "python",
   "nbconvert_exporter": "python",
   "pygments_lexer": "ipython3",
   "version": "3.9.4"
  },
  "metadata": {
   "interpreter": {
    "hash": "4eaf1be304415beee96765ae99c3f893cc8312c7f1196698e6029668e9aeb3e5"
   }
  },
  "orig_nbformat": 2
 },
 "nbformat": 4,
 "nbformat_minor": 2
}